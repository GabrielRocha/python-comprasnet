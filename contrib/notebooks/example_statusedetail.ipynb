{
 "cells": [
  {
   "cell_type": "code",
   "execution_count": 18,
   "metadata": {},
   "outputs": [
    {
     "name": "stdout",
     "output_type": "stream",
     "text": [
      "{'auction_code': 32018,\n",
      " 'items': [{'description': 'Pacote de Serviços SMP (Voz, Dados, SMS, Etc)',\n",
      "            'number': '1'},\n",
      "           {'description': 'Pacote de Serviços SMP (Voz, Dados, SMS, Etc)',\n",
      "            'number': '2'},\n",
      "           {'description': 'Pacote de Serviços SMP (Voz, Dados, SMS, Etc)',\n",
      "            'number': '3'},\n",
      "           {'description': 'Pacote de Serviços SMP (Voz, Dados, SMS, Etc)',\n",
      "            'number': '4'},\n",
      "           {'description': 'Chamadas  Locais Móvel-Móvel  Intraoperadora '\n",
      "                           'SMP-Local-MM-IO(VC1)',\n",
      "            'number': '5'},\n",
      "           {'description': 'Chamadas  Locais Móvel-Móvel  Extraoperadora '\n",
      "                           'SMP-Local-MM-EO(VC1)',\n",
      "            'number': '6'},\n",
      "           {'description': 'Chamadas Locais Móvel-Fixo SMP-Local-MF (VC1)',\n",
      "            'number': '7'},\n",
      "           {'description': 'Pacote de Serviços SMP (Voz, Dados, SMS, Etc)',\n",
      "            'number': '8'},\n",
      "           {'description': 'Pacote de Serviços SMP (Voz, Dados, SMS, Etc)',\n",
      "            'number': '9'},\n",
      "           {'description': 'Pacote de Serviços SMP (Voz, Dados, SMS, Etc)',\n",
      "            'number': '10'},\n",
      "           {'description': 'Pacote de Serviços SMP (Voz, Dados, SMS, Etc)',\n",
      "            'number': '11'},\n",
      "           {'description': 'Pacote de Serviços SMP (Voz, Dados, SMS, Etc)',\n",
      "            'number': '12'},\n",
      "           {'description': 'Pacote de Serviços SMP (Voz, Dados, SMS, Etc)',\n",
      "            'number': '13'},\n",
      "           {'description': 'Pacote de Serviços SMP (Voz, Dados, SMS, Etc)',\n",
      "            'number': '14'},\n",
      "           {'description': 'Chamadas  Nacionais Móvel-Móvel Intraoperadora '\n",
      "                           'SMP-LDN-MM-IO(VC2 e VC3)',\n",
      "            'number': '15'},\n",
      "           {'description': 'Chamadas  Nacionais Móvel-Móvel Extraoperadora '\n",
      "                           'SMP-LDN-MM-EO(VC2 e VC3)',\n",
      "            'number': '16'},\n",
      "           {'description': 'Chamadas Nacionais Móvel-Fixo SMP-LDM-MF (VC2 e '\n",
      "                           'VC3)',\n",
      "            'number': '17'},\n",
      "           {'description': 'Chamadas  Nacionais Móvel-Móvel Intraoperadora '\n",
      "                           'SMP-LDN-MM-IO(VC2 e VC3)',\n",
      "            'number': '18'},\n",
      "           {'description': 'Chamadas  Nacionais Móvel-Móvel Extraoperadora '\n",
      "                           'SMP-LDN-MM-EO(VC2 e VC3)',\n",
      "            'number': '19'},\n",
      "           {'description': 'Chamadas Nacionais Móvel-Fixo SMP-LDM-MF (VC2 e '\n",
      "                           'VC3)',\n",
      "            'number': '20'}],\n",
      " 'uasg_code': 160478}\n"
     ]
    }
   ],
   "source": [
    "%autoreload\n",
    "\n",
    "from comprasnet import StatuseDetail\n",
    "from pprint import pprint\n",
    "\n",
    "statuse_detail = StatuseDetail(uasg_code=160478, auction_code=32018)\n",
    "result = statuse_detail.scrap_data()\n",
    "pprint(result)"
   ]
  },
  {
   "cell_type": "code",
   "execution_count": null,
   "metadata": {},
   "outputs": [],
   "source": []
  },
  {
   "cell_type": "code",
   "execution_count": null,
   "metadata": {
    "collapsed": true
   },
   "outputs": [],
   "source": []
  }
 ],
 "metadata": {
  "kernelspec": {
   "display_name": "Python 3",
   "language": "python",
   "name": "python3"
  },
  "language_info": {
   "codemirror_mode": {
    "name": "ipython",
    "version": 3
   },
   "file_extension": ".py",
   "mimetype": "text/x-python",
   "name": "python",
   "nbconvert_exporter": "python",
   "pygments_lexer": "ipython3",
   "version": "3.6.0"
  }
 },
 "nbformat": 4,
 "nbformat_minor": 2
}
